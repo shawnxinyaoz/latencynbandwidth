{
  "nbformat": 4,
  "nbformat_minor": 0,
  "metadata": {
    "colab": {
      "name": "Xinyao_Zhang_Latency & Bandwidth.ipynb",
      "provenance": [],
      "collapsed_sections": [],
      "authorship_tag": "ABX9TyP8Hs9Ak9snOXpKVS3QcqFz",
      "include_colab_link": true
    },
    "kernelspec": {
      "name": "python3",
      "display_name": "Python 3"
    }
  },
  "cells": [
    {
      "cell_type": "markdown",
      "metadata": {
        "id": "view-in-github",
        "colab_type": "text"
      },
      "source": [
        "<a href=\"https://colab.research.google.com/github/shawnxinyaoz/latencynbandwidth/blob/master/Xinyao_Zhang_Latency_%26_Bandwidth.ipynb\" target=\"_parent\"><img src=\"https://colab.research.google.com/assets/colab-badge.svg\" alt=\"Open In Colab\"/></a>"
      ]
    },
    {
      "cell_type": "markdown",
      "metadata": {
        "id": "rlPfJPOA1q89",
        "colab_type": "text"
      },
      "source": [
        "###Latency & Bandwidth\n",
        "Xinyao Zhang \n",
        "\n"
      ]
    },
    {
      "cell_type": "code",
      "metadata": {
        "id": "AaSYoDZIoBd7",
        "colab_type": "code",
        "colab": {
          "base_uri": "https://localhost:8080/",
          "height": 34
        },
        "outputId": "965a086e-494e-4953-bb96-87b854699237"
      },
      "source": [
        "from google.colab import drive\n",
        "drive.mount('/content/gdrive', force_remount=True)"
      ],
      "execution_count": null,
      "outputs": [
        {
          "output_type": "stream",
          "text": [
            "Mounted at /content/gdrive\n"
          ],
          "name": "stdout"
        }
      ]
    },
    {
      "cell_type": "code",
      "metadata": {
        "id": "1PH6LJbypjAo",
        "colab_type": "code",
        "colab": {}
      },
      "source": [
        "# Import the required system libraries here. The external libraries allowed are already imported.\n",
        "import os\n",
        "import random\n",
        "import time\n",
        "\n",
        "import numpy as np\n",
        "np.set_printoptions(suppress=True) # Suppress scientific notation while printing numbers\n",
        "\n",
        "import matplotlib.pyplot as plt\n",
        "%matplotlib inline \n",
        "plt.rcParams['figure.figsize'] = (12, 8) # Enlarges the graphs to 12in x 8in "
      ],
      "execution_count": null,
      "outputs": []
    },
    {
      "cell_type": "code",
      "metadata": {
        "id": "08vr3D76pRGT",
        "colab_type": "code",
        "colab": {
          "base_uri": "https://localhost:8080/",
          "height": 34
        },
        "outputId": "3692f499-3049-459c-c154-bee4fda53393"
      },
      "source": [
        "FILE = 'gdrive/My Drive/ubuntu-18.04.3-desktop-amd64.iso'\n",
        "size = os.path.getsize(FILE)\n",
        "print(size)\n",
        "range = size - 4096 # set the range of the seeker"
      ],
      "execution_count": null,
      "outputs": [
        {
          "output_type": "stream",
          "text": [
            "2082816000\n"
          ],
          "name": "stdout"
        }
      ]
    },
    {
      "cell_type": "code",
      "metadata": {
        "id": "qrXm0V7conlt",
        "colab_type": "code",
        "colab": {}
      },
      "source": [
        "#Q2 A\n",
        "\n",
        "f = open(FILE, mode='rb', buffering=0, encoding=None, errors=None, newline=None, closefd=True, opener=None)"
      ],
      "execution_count": null,
      "outputs": []
    },
    {
      "cell_type": "code",
      "metadata": {
        "id": "F0nAawkew1wa",
        "colab_type": "code",
        "colab": {
          "base_uri": "https://localhost:8080/",
          "height": 374
        },
        "outputId": "b70f943a-100b-49a2-bb2b-5699a378391f"
      },
      "source": [
        "#Q2 B\n",
        "\n",
        "latency_seq = {} # make it a dictionary\n",
        "\n",
        "def seq(block_number):\n",
        "  i = 0 # for while loop\n",
        "  f.seek(0) # reset seeker\n",
        "  latency_seq[block_number] = 0\n",
        "  while i < block_number:\n",
        "    # loop block_number of times\n",
        "    if f.tell() < range: # let the parser stay in left range\n",
        "      start = time.perf_counter()   # get start time\n",
        "      f.read(4096) # read!\n",
        "      end = time.perf_counter() # get end time\n",
        "      each_latency = end - start # get each latency\n",
        "      latency_seq[block_number] = latency_seq[block_number] + each_latency #sum the latency\n",
        "      #print(latency_seq) #for debug\n",
        "      i += 1\n",
        "    else:\n",
        "      f.seek(0) # get parser back to the start point if it is near the end of the file\n",
        "  #print(\"Sequentially Reading \" + str(block_number) + \" blocks takes latency of \" + str(latency_seq[block_number]) + \" seconds.\")\n",
        "  #print(latency_seq)\n",
        "  #print(seq_latency)\n",
        "  return latency_seq[block_number]\n",
        "  \n",
        "l = [1, 4, 16, 64, 256, 1024, 4*1024, 16*1024, 64*1024,256*1024, 1024*1024]\n",
        "\n",
        "def seql():\n",
        "  s= []\n",
        "  for block_number in l:\n",
        "    s.append(seq(block_number))\n",
        "  return s\n",
        "\n",
        "seql()\n",
        " \n",
        "seq_latency = seql()\n",
        "print(seq_latency)\n"
      ],
      "execution_count": 1,
      "outputs": [
        {
          "output_type": "error",
          "ename": "NameError",
          "evalue": "ignored",
          "traceback": [
            "\u001b[0;31m---------------------------------------------------------------------------\u001b[0m",
            "\u001b[0;31mNameError\u001b[0m                                 Traceback (most recent call last)",
            "\u001b[0;32m<ipython-input-1-7742077e9898>\u001b[0m in \u001b[0;36m<module>\u001b[0;34m()\u001b[0m\n\u001b[1;32m     32\u001b[0m   \u001b[0;32mreturn\u001b[0m \u001b[0ms\u001b[0m\u001b[0;34m\u001b[0m\u001b[0;34m\u001b[0m\u001b[0m\n\u001b[1;32m     33\u001b[0m \u001b[0;34m\u001b[0m\u001b[0m\n\u001b[0;32m---> 34\u001b[0;31m \u001b[0mseql\u001b[0m\u001b[0;34m(\u001b[0m\u001b[0;34m)\u001b[0m\u001b[0;34m\u001b[0m\u001b[0;34m\u001b[0m\u001b[0m\n\u001b[0m\u001b[1;32m     35\u001b[0m \u001b[0;34m\u001b[0m\u001b[0m\n\u001b[1;32m     36\u001b[0m \u001b[0mseq_latency\u001b[0m \u001b[0;34m=\u001b[0m \u001b[0mseql\u001b[0m\u001b[0;34m(\u001b[0m\u001b[0;34m)\u001b[0m\u001b[0;34m\u001b[0m\u001b[0;34m\u001b[0m\u001b[0m\n",
            "\u001b[0;32m<ipython-input-1-7742077e9898>\u001b[0m in \u001b[0;36mseql\u001b[0;34m()\u001b[0m\n\u001b[1;32m     29\u001b[0m   \u001b[0ms\u001b[0m\u001b[0;34m=\u001b[0m \u001b[0;34m[\u001b[0m\u001b[0;34m]\u001b[0m\u001b[0;34m\u001b[0m\u001b[0;34m\u001b[0m\u001b[0m\n\u001b[1;32m     30\u001b[0m   \u001b[0;32mfor\u001b[0m \u001b[0mblock_number\u001b[0m \u001b[0;32min\u001b[0m \u001b[0ml\u001b[0m\u001b[0;34m:\u001b[0m\u001b[0;34m\u001b[0m\u001b[0;34m\u001b[0m\u001b[0m\n\u001b[0;32m---> 31\u001b[0;31m     \u001b[0ms\u001b[0m\u001b[0;34m.\u001b[0m\u001b[0mappend\u001b[0m\u001b[0;34m(\u001b[0m\u001b[0mseq\u001b[0m\u001b[0;34m(\u001b[0m\u001b[0mblock_number\u001b[0m\u001b[0;34m)\u001b[0m\u001b[0;34m)\u001b[0m\u001b[0;34m\u001b[0m\u001b[0;34m\u001b[0m\u001b[0m\n\u001b[0m\u001b[1;32m     32\u001b[0m   \u001b[0;32mreturn\u001b[0m \u001b[0ms\u001b[0m\u001b[0;34m\u001b[0m\u001b[0;34m\u001b[0m\u001b[0m\n\u001b[1;32m     33\u001b[0m \u001b[0;34m\u001b[0m\u001b[0m\n",
            "\u001b[0;32m<ipython-input-1-7742077e9898>\u001b[0m in \u001b[0;36mseq\u001b[0;34m(block_number)\u001b[0m\n\u001b[1;32m      5\u001b[0m \u001b[0;32mdef\u001b[0m \u001b[0mseq\u001b[0m\u001b[0;34m(\u001b[0m\u001b[0mblock_number\u001b[0m\u001b[0;34m)\u001b[0m\u001b[0;34m:\u001b[0m\u001b[0;34m\u001b[0m\u001b[0;34m\u001b[0m\u001b[0m\n\u001b[1;32m      6\u001b[0m   \u001b[0mi\u001b[0m \u001b[0;34m=\u001b[0m \u001b[0;36m0\u001b[0m \u001b[0;31m# for while loop\u001b[0m\u001b[0;34m\u001b[0m\u001b[0;34m\u001b[0m\u001b[0m\n\u001b[0;32m----> 7\u001b[0;31m   \u001b[0mf\u001b[0m\u001b[0;34m.\u001b[0m\u001b[0mseek\u001b[0m\u001b[0;34m(\u001b[0m\u001b[0;36m0\u001b[0m\u001b[0;34m)\u001b[0m \u001b[0;31m# reset seeker\u001b[0m\u001b[0;34m\u001b[0m\u001b[0;34m\u001b[0m\u001b[0m\n\u001b[0m\u001b[1;32m      8\u001b[0m   \u001b[0mlatency_seq\u001b[0m\u001b[0;34m[\u001b[0m\u001b[0mblock_number\u001b[0m\u001b[0;34m]\u001b[0m \u001b[0;34m=\u001b[0m \u001b[0;36m0\u001b[0m\u001b[0;34m\u001b[0m\u001b[0;34m\u001b[0m\u001b[0m\n\u001b[1;32m      9\u001b[0m   \u001b[0;32mwhile\u001b[0m \u001b[0mi\u001b[0m \u001b[0;34m<\u001b[0m \u001b[0mblock_number\u001b[0m\u001b[0;34m:\u001b[0m\u001b[0;34m\u001b[0m\u001b[0;34m\u001b[0m\u001b[0m\n",
            "\u001b[0;31mNameError\u001b[0m: name 'f' is not defined"
          ]
        }
      ]
    },
    {
      "cell_type": "code",
      "metadata": {
        "id": "x1ydnxH0UY99",
        "colab_type": "code",
        "colab": {
          "base_uri": "https://localhost:8080/",
          "height": 54
        },
        "outputId": "9f563dee-3280-4347-8abb-e1c118a6932f"
      },
      "source": [
        "#Q2 C\n",
        "\n",
        "latency_ran = {}\n",
        "\n",
        "def ran(block_number):\n",
        "  i = 0\n",
        "  latency_ran[block_number] = 0\n",
        "  while i < block_number:\n",
        "    start = time.time()\n",
        "    rand_loc = random.randrange(0,range)\n",
        "    f.seek(rand_loc, 0)\n",
        "    f.read(4096)\n",
        "    end = time.time()\n",
        "    each_latency = end - start\n",
        "    latency_ran[block_number] = latency_ran[block_number] + each_latency #sum the latency\n",
        "    #print(latency_ran) #for debug\n",
        "    i += 1\n",
        "  #print(\"Randomly reading \" + str(block_number) + \" blocks takes latency of \" + str(latency_ran[block_number]) + \" seconds.\")\n",
        "  return(latency_ran[block_number])\n",
        "\n",
        "def ranl():\n",
        "  r= []\n",
        "  for block_number in l:\n",
        "    r.append(ran(block_number))\n",
        "  return r\n",
        "\n",
        "ranl()\n",
        "\n",
        "ran_latency = ranl()\n",
        "print(ran_latency)"
      ],
      "execution_count": null,
      "outputs": [
        {
          "output_type": "stream",
          "text": [
            "[8.106231689453125e-06, 1.6689300537109375e-05, 6.4849853515625e-05, 0.00026917457580566406, 0.0010423660278320312, 0.004213094711303711, 0.01612567901611328, 0.06537628173828125, 0.25875115394592285, 1.0333983898162842, 4.081729173660278]\n"
          ],
          "name": "stdout"
        }
      ]
    },
    {
      "cell_type": "code",
      "metadata": {
        "id": "f8wbAZSdaWVo",
        "colab_type": "code",
        "colab": {
          "base_uri": "https://localhost:8080/",
          "height": 518
        },
        "outputId": "576c15c0-92ce-4b67-b56d-fccf1af720d5"
      },
      "source": [
        "#Q2 D\n",
        "\n",
        "plt.plot(l,seq_latency,\"-o\",label=\"Sequential\")\n",
        "plt.plot(l,ran_latency,\"-o\",label=\"Random\")\n",
        "plt.xlabel(\"No. of blocks\")\n",
        "plt.ylabel(\"latency (seconds)\")\n",
        "plt.xscale(\"log\")\n",
        "plt.legend()"
      ],
      "execution_count": null,
      "outputs": [
        {
          "output_type": "execute_result",
          "data": {
            "text/plain": [
              "<matplotlib.legend.Legend at 0x7f9513bffc88>"
            ]
          },
          "metadata": {
            "tags": []
          },
          "execution_count": 7
        },
        {
          "output_type": "display_data",
          "data": {
            "image/png": "[encoded data removed]",
            "text/plain": [
              "<Figure size 864x576 with 1 Axes>"
            ]
          },
          "metadata": {
            "tags": []
          }
        }
      ]
    },
    {
      "cell_type": "markdown",
      "metadata": {
        "id": "Jx2HN7qglFUG",
        "colab_type": "text"
      },
      "source": [
        "**Brief description:**\n",
        "\n",
        "When the number of blocks are elow 10^4, the latencies of sequential and random reads are pretty close and close to 0. However, after 10^4, when the number of blocks gets higher, both latencies start to increase fast but the latencies of random reads increase much faster than the latencies of sequential reads. This probably indicates when the number of blocks is relatively large, random reads would provide a poorer reading performance compared to sequential reads in terms of latency."
      ]
    },
    {
      "cell_type": "code",
      "metadata": {
        "id": "nTKv0mL4eDWg",
        "colab_type": "code",
        "colab": {
          "base_uri": "https://localhost:8080/",
          "height": 529
        },
        "outputId": "9e3b4c08-e036-4548-b97b-c3fa3e9665fd"
      },
      "source": [
        "#Q2 E\n",
        "\n",
        "seq_bandwidth = []\n",
        "ran_bandwidth = []\n",
        "for block_number in l:\n",
        "  seq_bandwidth.append(block_number * 4096 / seq_latency[l.index(block_number)])\n",
        "  ran_bandwidth.append(block_number * 4096 / ran_latency[l.index(block_number)])\n",
        "plt.plot(l,seq_bandwidth,\"-o\",label=\"Sequential\")\n",
        "plt.plot(l,ran_bandwidth,\"-o\",label=\"Random\")\n",
        "plt.xlabel(\"No. of blocks\")\n",
        "plt.ylabel(\"bandwidth (bytes/sec)\")\n",
        "plt.xscale(\"log\")\n",
        "plt.legend()"
      ],
      "execution_count": null,
      "outputs": [
        {
          "output_type": "execute_result",
          "data": {
            "text/plain": [
              "<matplotlib.legend.Legend at 0x7f9512d0cc88>"
            ]
          },
          "metadata": {
            "tags": []
          },
          "execution_count": 8
        },
        {
          "output_type": "display_data",
          "data": {
            "image/png": "[encoded data removed]",
            "text/plain": [
              "<Figure size 864x576 with 1 Axes>"
            ]
          },
          "metadata": {
            "tags": []
          }
        }
      ]
    },
    {
      "cell_type": "markdown",
      "metadata": {
        "id": "thMn99E_xAxZ",
        "colab_type": "text"
      },
      "source": [
        "**Brief description:**\n",
        "\n",
        "Random bandwith is pretty stable and lower than sequential. Sequential bandwidth increased suddenly from 1 to 4 blocks and then became generally stable."
      ]
    },
    {
      "cell_type": "code",
      "metadata": {
        "id": "BeSufMzOx68n",
        "colab_type": "code",
        "colab": {
          "base_uri": "https://localhost:8080/",
          "height": 70
        },
        "outputId": "e4f31f3e-fd89-4e0d-dd5b-c6a882910695"
      },
      "source": [
        "#Q3 A\n",
        "\n",
        "i = 0\n",
        "seq_latency_sim = []\n",
        "ran_latency_sim = []\n",
        "while i < 10:\n",
        "  seql()\n",
        "  seq_latency_sim.extend(seql())\n",
        "  ranl()\n",
        "  ran_latency_sim.extend(ranl())\n",
        "  i += 1\n",
        "\n",
        "print(seq_latency_sim)\n",
        "print(ran_latency_sim)"
      ],
      "execution_count": null,
      "outputs": [
        {
          "output_type": "stream",
          "text": [
            "[3.001999857588089e-06, 5.84700001127203e-06, 2.2655000066151842e-05, 7.98760001998744e-05, 0.00032144799911293376, 0.0014727239965850458, 0.005825589004416543, 0.02295368699856226, 0.08958263499221175, 0.3433441620454687, 1.4103599229242718, 3.0240000796766253e-06, 5.244000249149394e-06, 2.0074000076419907e-05, 7.453999978679349e-05, 0.0003170310014866118, 0.0014315419996364653, 0.005753289006861451, 0.0229511540258045, 0.09135151002533348, 0.35826402098086874, 1.4080536062474494, 3.1640001907362603e-06, 5.671999815604067e-06, 2.1140999933777493e-05, 7.77060004111263e-05, 0.00034483900026316405, 0.002728589000298598, 0.00842256499981886, 0.030213186992341434, 0.08929787094689345, 0.34962003895861926, 1.419242374109217, 2.840999968611868e-06, 5.8940004237229005e-06, 2.234699968539644e-05, 8.415500087721739e-05, 0.0003851680007755931, 0.0015539960004389286, 0.006239527993102456, 0.02435691598293488, 0.09120260700501603, 0.35213367291112263, 1.4226990599750025, 2.9549998998845695e-06, 5.8700002227851655e-06, 2.0757999664056115e-05, 7.604900065416587e-05, 0.0003087520010467415, 0.001422268995156628, 0.005653866999182355, 0.022597878987426157, 0.0862539579627537, 0.3417403679675317, 1.4007615040957262, 3.0300000162242213e-06, 5.407000116974814e-06, 2.2831999785921653e-05, 7.639199884579284e-05, 0.0003321610010971199, 0.001459678998344316, 0.0060372250079581136, 0.023768845988797693, 0.09130897097998059, 0.3604764558890565, 1.4280100179425972, 2.9259999791975133e-06, 5.258999863144709e-06, 2.069900006063108e-05, 8.712999942872557e-05, 0.00032041899976320565, 0.0014994579942140263, 0.005606210995665606, 0.022343906017795234, 0.08679803301379252, 0.3596428080493297, 1.4270774058600182, 3.052000010939082e-06, 5.6999999742402e-06, 2.1284000013110926e-05, 8.290199912153184e-05, 0.0003724780010543327, 0.0014652899978955247, 0.005838135994054028, 0.023193747992309, 0.08923312697993424, 0.3448424649552635, 1.3969188580138052, 3.431999857639312e-06, 5.431000090538873e-06, 2.1197000023676082e-05, 7.92180001099041e-05, 0.0003369919988926995, 0.0014586409968160297, 0.005763277002188261, 0.023102818000097614, 0.09043604197722743, 0.3487592439330456, 1.3855914381390448, 3.2279999686579686e-06, 5.916000191064086e-06, 2.0239999912519124e-05, 7.783600199218199e-05, 0.0004930449995299568, 0.0017924349981512933, 0.0060530620021381765, 0.024086214004000794, 0.09242426202922616, 0.3519084769989149, 1.4187349969670322]\n",
            "[3.814697265625e-06, 1.5020370483398438e-05, 5.793571472167969e-05, 0.0002422332763671875, 0.0010900497436523438, 0.004289865493774414, 0.016188621520996094, 0.0646965503692627, 0.25709056854248047, 1.0291557312011719, 3.9785521030426025, 1.33514404296875e-05, 1.71661376953125e-05, 6.604194641113281e-05, 0.0002560615539550781, 0.0009925365447998047, 0.004056215286254883, 0.015251398086547852, 0.060355186462402344, 0.2408139705657959, 1.0248515605926514, 4.1699135303497314, 4.291534423828125e-06, 1.5735626220703125e-05, 7.104873657226562e-05, 0.00023698806762695312, 0.0009663105010986328, 0.003987550735473633, 0.01605820655822754, 0.06514215469360352, 0.2588503360748291, 1.0666944980621338, 4.1576879024505615, 4.291534423828125e-06, 1.4781951904296875e-05, 5.936622619628906e-05, 0.00023245811462402344, 0.0009744167327880859, 0.003860950469970703, 0.015570402145385742, 0.06299114227294922, 0.2583780288696289, 1.0310544967651367, 4.091583013534546, 4.291534423828125e-06, 1.4781951904296875e-05, 5.7220458984375e-05, 0.00025343894958496094, 0.0010323524475097656, 0.003958225250244141, 0.017128705978393555, 0.06567692756652832, 0.2578389644622803, 1.0476961135864258, 3.993521213531494, 4.5299530029296875e-06, 1.4781951904296875e-05, 5.817413330078125e-05, 0.0002474784851074219, 0.001018524169921875, 0.0039157867431640625, 0.016038894653320312, 0.06423473358154297, 0.2652428150177002, 1.0406699180603027, 4.102009057998657, 4.76837158203125e-06, 1.811981201171875e-05, 6.890296936035156e-05, 0.00031375885009765625, 0.0011577606201171875, 0.004555225372314453, 0.017108678817749023, 0.06886482238769531, 0.26273655891418457, 1.0448298454284668, 4.15857458114624, 3.814697265625e-06, 1.52587890625e-05, 6.842613220214844e-05, 0.00029397010803222656, 0.0010447502136230469, 0.003786325454711914, 0.015093088150024414, 0.06056571006774902, 0.2554001808166504, 0.9908075332641602, 4.139909029006958, 4.291534423828125e-06, 1.430511474609375e-05, 6.127357482910156e-05, 0.00025200843811035156, 0.0009601116180419922, 0.004045009613037109, 0.01587390899658203, 0.06448030471801758, 0.2464907169342041, 1.009242296218872, 4.137833595275879, 4.291534423828125e-06, 1.5020370483398438e-05, 5.793571472167969e-05, 0.0002415180206298828, 0.0011692047119140625, 0.003936767578125, 0.016462087631225586, 0.06612300872802734, 0.26955699920654297, 1.0323517322540283, 4.034199237823486]\n"
          ],
          "name": "stdout"
        }
      ]
    },
    {
      "cell_type": "code",
      "metadata": {
        "id": "_Qa4aFV6sjsK",
        "colab_type": "code",
        "colab": {
          "base_uri": "https://localhost:8080/",
          "height": 50
        },
        "outputId": "a45d5efd-ee37-42da-e2ea-1520e62af377"
      },
      "source": [
        "print(len(seq_latency_sim))\n",
        "print(len(ran_latency_sim))"
      ],
      "execution_count": null,
      "outputs": [
        {
          "output_type": "stream",
          "text": [
            "110\n",
            "110\n"
          ],
          "name": "stdout"
        }
      ]
    },
    {
      "cell_type": "code",
      "metadata": {
        "id": "t7kcoKvn0VZE",
        "colab_type": "code",
        "colab": {}
      },
      "source": [
        "#Q3 B\n",
        "\n",
        "l = [1, 4, 16, 64, 256, 1024, 4*1024, 16*1024, 64*1024,256*1024, 1024*1024]\n",
        "\n",
        "i={}\n",
        "S={}\n",
        "SB={}\n",
        "R={}\n",
        "RB={}\n",
        "N = np.arange(1,12).tolist()\n",
        "for n in N:\n",
        "  i[n] = np.arange(n-1, 100+n, 11).tolist() #the index of each results for particular number of blocks read\n",
        "n = 1\n",
        "while n in N:\n",
        "  S[n]=[]\n",
        "  SB[n]=[]\n",
        "  R[n]=[]\n",
        "  RB[n]=[]\n",
        "  k = n - 1\n",
        "  while k in i[n]:\n",
        "    S[n].append(seq_latency_sim[k]) #store the latencies into lists\n",
        "    SB[n].append(l[n-1]*4096/seq_latency_sim[k])\n",
        "    R[n].append(ran_latency_sim[k]) \n",
        "    RB[n].append(l[n-1]*4096/ran_latency_sim[k])\n",
        "    k += 11\n",
        "  n+=1"
      ],
      "execution_count": null,
      "outputs": []
    },
    {
      "cell_type": "code",
      "metadata": {
        "id": "-ebNFd1y45zo",
        "colab_type": "code",
        "colab": {
          "base_uri": "https://localhost:8080/",
          "height": 1000
        },
        "outputId": "0e498a79-aa76-4e99-eb4a-038219e5cca0"
      },
      "source": [
        "for n in N:\n",
        "  print('Sequential Latency Test --- ' + str(n))\n",
        "  print(S[n]) #this is the list of latencies from each tests for each number of blocks read sequentially\n",
        "  print('Sequential Bandwidth Test ---' + str(n))\n",
        "  print(SB[n]) #this is the list of bandwidth\n",
        "\n",
        "print('\\n')\n",
        "\n",
        "for n in N: \n",
        "  print('Random Latency Test --- ' + str(n))\n",
        "  print(R[n]) #this is the list of latencies from each tests for each number of blocks read randomly\n",
        "  print('Random Bandwidth Test ---' + str(n))\n",
        "  print(RB[n]) #this is the list of bandwidth"
      ],
      "execution_count": null,
      "outputs": [
        {
          "output_type": "stream",
          "text": [
            "Sequential Latency Test --- 1\n",
            "[3.001999857588089e-06, 3.0240000796766253e-06, 3.1640001907362603e-06, 2.840999968611868e-06, 2.9549998998845695e-06, 3.0300000162242213e-06, 2.9259999791975133e-06, 3.052000010939082e-06, 3.431999857639312e-06, 3.2279999686579686e-06]\n",
            "Sequential Bandwidth Test ---1\n",
            "[1364423782.248567, 1354497318.8089368, 1294563765.1958752, 1441745880.0611439, 1386125258.4678602, 1351815174.279819, 1399863304.5525079, 1342070768.453138, 1193473242.9789255, 1268897162.258307]\n",
            "Sequential Latency Test --- 2\n",
            "[5.84700001127203e-06, 5.244000249149394e-06, 5.671999815604067e-06, 5.8940004237229005e-06, 5.8700002227851655e-06, 5.407000116974814e-06, 5.258999863144709e-06, 5.6999999742402e-06, 5.431000090538873e-06, 5.916000191064086e-06]\n",
            "Sequential Bandwidth Test ---2\n",
            "[2802120740.27953, 3124332422.11565, 2888575552.2992916, 2779775843.594387, 2791141291.000873, 3030146041.344411, 3115421263.8071656, 2874385977.9023876, 3016755611.6491156, 2769438720.5645237]\n",
            "Sequential Latency Test --- 3\n",
            "[2.2655000066151842e-05, 2.0074000076419907e-05, 2.1140999933777493e-05, 2.234699968539644e-05, 2.0757999664056115e-05, 2.2831999785921653e-05, 2.069900006063108e-05, 2.1284000013110926e-05, 2.1197000023676082e-05, 2.0239999912519124e-05]\n",
            "Sequential Bandwidth Test ---3\n",
            "[2892783041.652486, 3264720521.5956144, 3099947978.1129713, 2932653193.8346596, 3157144284.643189, 2870357420.0456104, 3166143282.67227, 3079120464.1810694, 3091758264.2260356, 3237944678.0265927]\n",
            "Sequential Latency Test --- 4\n",
            "[7.98760001998744e-05, 7.453999978679349e-05, 7.77060004111263e-05, 8.415500087721739e-05, 7.604900065416587e-05, 7.639199884579284e-05, 8.712999942872557e-05, 8.290199912153184e-05, 7.92180001099041e-05, 7.783600199218199e-05]\n",
            "Sequential Bandwidth Test ---4\n",
            "[3281886916.521043, 3516823192.24322, 3373536131.226039, 3115013929.8610377, 3447040694.092804, 3431563566.3516498, 3008653755.5235505, 3162095037.2463846, 3309146906.4645815, 3367901655.9243407]\n",
            "Sequential Latency Test --- 5\n",
            "[0.00032144799911293376, 0.0003170310014866118, 0.00034483900026316405, 0.0003851680007755931, 0.0003087520010467415, 0.0003321610010971199, 0.00032041899976320565, 0.0003724780010543327, 0.0003369919988926995, 0.0004930449995299568]\n",
            "Sequential Bandwidth Test ---5\n",
            "[3262039281.2947817, 3307487264.9143157, 3040769748.2006927, 2722386070.204524, 3396175559.818502, 3156830562.6987467, 3272515053.02405, 2815135382.57806, 3111575359.1938353, 2126734884.23908]\n",
            "Sequential Latency Test --- 6\n",
            "[0.0014727239965850458, 0.0014315419996364653, 0.002728589000298598, 0.0015539960004389286, 0.001422268995156628, 0.001459678998344316, 0.0014994579942140263, 0.0014652899978955247, 0.0014586409968160297, 0.0017924349981512933]\n",
            "Sequential Bandwidth Test ---6\n",
            "[2847990533.0026245, 2929920324.422984, 1537169577.2214153, 2699044269.621873, 2949023014.8327885, 2873442725.940096, 2797213403.8996778, 2862439521.2032657, 2875487531.994142, 2340003405.605213]\n",
            "Sequential Latency Test --- 7\n",
            "[0.005825589004416543, 0.005753289006861451, 0.00842256499981886, 0.006239527993102456, 0.005653866999182355, 0.0060372250079581136, 0.005606210995665606, 0.005838135994054028, 0.005763277002188261, 0.0060530620021381765]\n",
            "Sequential Bandwidth Test ---7\n",
            "[2879917547.7845626, 2916108678.008573, 1991936660.6681955, 2688859801.341789, 2967387807.747559, 2778961522.5347257, 2992612303.206419, 2873728192.8833294, 2911054942.1153717, 2771690756.52515]\n",
            "Sequential Latency Test --- 8\n",
            "[0.02295368699856226, 0.0229511540258045, 0.030213186992341434, 0.02435691598293488, 0.022597878987426157, 0.023768845988797693, 0.022343906017795234, 0.023193747992309, 0.023102818000097614, 0.024086214004000794]\n",
            "Sequential Bandwidth Test ---8\n",
            "[2923663810.707337, 2923986476.8694415, 2221177925.2884192, 2755228291.094747, 2969697467.507482, 2823395970.996175, 3003452661.6139927, 2893403171.503509, 2904791268.308327, 2786193960.9460006]\n",
            "Sequential Latency Test --- 9\n",
            "[0.08958263499221175, 0.09135151002533348, 0.08929787094689345, 0.09120260700501603, 0.0862539579627537, 0.09130897097998059, 0.08679803301379252, 0.08923312697993424, 0.09043604197722743, 0.09242426202922616]\n",
            "Sequential Bandwidth Test ---9\n",
            "[2996512170.2809653, 2938489532.636711, 3006067817.2231216, 2943287092.497656, 3112152327.1536846, 2939858516.8466554, 3092644460.7027516, 3008248899.0928535, 2968235342.1393027, 2904383006.218822]\n",
            "Sequential Latency Test --- 10\n",
            "[0.3433441620454687, 0.35826402098086874, 0.34962003895861926, 0.35213367291112263, 0.3417403679675317, 0.3604764558890565, 0.3596428080493297, 0.3448424649552635, 0.3487592439330456, 0.3519084769989149]\n",
            "Sequential Bandwidth Test ---10\n",
            "[3127304735.875502, 2997068533.5922627, 3071167851.8149447, 3049244950.428268, 3141981236.7674828, 2978673936.836708, 2985578468.324945, 3113716937.7886705, 3078747997.877114, 3051196246.128822]\n",
            "Sequential Latency Test --- 11\n",
            "[1.4103599229242718, 1.4080536062474494, 1.419242374109217, 1.4226990599750025, 1.4007615040957262, 1.4280100179425972, 1.4270774058600182, 1.3969188580138052, 1.3855914381390448, 1.4187349969670322]\n",
            "Sequential Bandwidth Test ---11\n",
            "[3045298739.838494, 3050286776.684842, 3026239474.209416, 3018886718.0916424, 3066165998.595638, 3007659079.44257, 3009624620.4750667, 3074600411.728105, 3099735735.786928, 3027321737.4504538]\n",
            "\n",
            "\n",
            "Random Latency Test --- 1\n",
            "[3.814697265625e-06, 1.33514404296875e-05, 4.291534423828125e-06, 4.291534423828125e-06, 4.291534423828125e-06, 4.5299530029296875e-06, 4.76837158203125e-06, 3.814697265625e-06, 4.291534423828125e-06, 4.291534423828125e-06]\n",
            "Random Bandwidth Test ---1\n",
            "[1073741824.0, 306783378.28571427, 954437176.8888888, 954437176.8888888, 954437176.8888888, 904203641.2631578, 858993459.2, 1073741824.0, 954437176.8888888, 954437176.8888888]\n",
            "Random Latency Test --- 2\n",
            "[1.5020370483398438e-05, 1.71661376953125e-05, 1.5735626220703125e-05, 1.4781951904296875e-05, 1.4781951904296875e-05, 1.4781951904296875e-05, 1.811981201171875e-05, 1.52587890625e-05, 1.430511474609375e-05, 1.5020370483398438e-05]\n",
            "Random Bandwidth Test ---2\n",
            "[1090785345.015873, 954437176.8888888, 1041204192.969697, 1108378657.032258, 1108378657.032258, 1108378657.032258, 904203641.2631578, 1073741824.0, 1145324612.2666667, 1090785345.015873]\n",
            "Random Latency Test --- 3\n",
            "[5.793571472167969e-05, 6.604194641113281e-05, 7.104873657226562e-05, 5.936622619628906e-05, 5.7220458984375e-05, 5.817413330078125e-05, 6.890296936035156e-05, 6.842613220214844e-05, 6.127357482910156e-05, 5.793571472167969e-05]\n",
            "Random Bandwidth Test ---3\n",
            "[1131184802.2386832, 992339014.2382672, 922409083.704698, 1103927337.124498, 1145324612.2666667, 1126548798.9508197, 951134626.1038063, 957762741.9651568, 1069563840.2490273, 1131184802.2386832]\n",
            "Random Latency Test --- 4\n",
            "[0.0002422332763671875, 0.0002560615539550781, 0.00023698806762695312, 0.00023245811462402344, 0.00025343894958496094, 0.0002474784851074219, 0.00031375885009765625, 0.00029397010803222656, 0.00025200843811035156, 0.0002415180206298828]\n",
            "Random Bandwidth Test ---4\n",
            "[1082196484.031496, 1023753843.3668529, 1106148518.889336, 1127704233.6164103, 1034347721.332079, 1059259757.0096339, 835495157.8844985, 891736924.3925385, 1040219136.9687796, 1085401409.4531095]\n",
            "Random Latency Test --- 5\n",
            "[0.0010900497436523438, 0.0009925365447998047, 0.0009663105010986328, 0.0009744167327880859, 0.0010323524475097656, 0.001018524169921875, 0.0011577606201171875, 0.0010447502136230469, 0.0009601116180419922, 0.0011692047119140625]\n",
            "Random Bandwidth Test ---5\n",
            "[961952430.2502187, 1056460848.211386, 1085133607.4769306, 1076106315.4157083, 1015715129.5852194, 1029505269.4531835, 905693268.3492587, 1003661914.9027841, 1092139684.9029055, 896828407.6476346]\n",
            "Random Latency Test --- 6\n",
            "[0.004289865493774414, 0.004056215286254883, 0.003987550735473633, 0.003860950469970703, 0.003958225250244141, 0.0039157867431640625, 0.004555225372314453, 0.003786325454711914, 0.004045009613037109, 0.003936767578125]\n",
            "Random Bandwidth Test ---6\n",
            "[977723895.0934253, 1034043733.8750367, 1051849688.7543199, 1086339758.2077312, 1059642575.859294, 1071126768.4130541, 920767614.5931121, 1107750522.2854984, 1036908289.7805022, 1065418243.9689922]\n",
            "Random Latency Test --- 7\n",
            "[0.016188621520996094, 0.015251398086547852, 0.01605820655822754, 0.015570402145385742, 0.017128705978393555, 0.016038894653320312, 0.017108678817749023, 0.015093088150024414, 0.01587390899658203, 0.016462087631225586]\n",
            "Random Bandwidth Test ---7\n",
            "[1036358529.8625036, 1100044461.8121903, 1044775201.9607738, 1077506916.2212932, 979479478.5527331, 1046033181.3780473, 980626042.4150838, 1111582721.3911066, 1056905139.34611, 1019142673.507379]\n",
            "Random Latency Test --- 8\n",
            "[0.0646965503692627, 0.060355186462402344, 0.06514215469360352, 0.06299114227294922, 0.06567692756652832, 0.06423473358154297, 0.06886482238769531, 0.06056571006774902, 0.06448030471801758, 0.06612300872802734]\n",
            "Random Bandwidth Test ---8\n",
            "[1037286588.1869861, 1111898876.1935942, 1030191038.5931647, 1065369853.2598144, 1021802731.7435211, 1044744179.0166135, 974501373.4616258, 1108033967.1561975, 1040765304.9016676, 1014909413.3938704]\n",
            "Random Latency Test --- 9\n",
            "[0.25709056854248047, 0.2408139705657959, 0.2588503360748291, 0.2583780288696289, 0.2578389644622803, 0.2652428150177002, 0.26273655891418457, 0.2554001808166504, 0.2464907169342041, 0.26955699920654297]\n",
            "Random Bandwidth Test ---9\n",
            "[1044127979.9637805, 1114700510.8105109, 1037029582.694457, 1038925241.3387123, 1041097324.2923876, 1012036672.8202864, 1021690537.1272553, 1051038629.4233187, 1089028663.3863523, 995839309.645662]\n",
            "Random Latency Test --- 10\n",
            "[1.0291557312011719, 1.0248515605926514, 1.0666944980621338, 1.0310544967651367, 1.0476961135864258, 1.0406699180603027, 1.0448298454284668, 0.9908075332641602, 1.009242296218872, 1.0323517322540283]\n",
            "Random Bandwidth Test ---10\n",
            "[1043322979.6493381, 1047704726.5060282, 1006606695.6852868, 1041401620.7375962, 1024859985.7113297, 1031779438.7689612, 1027671470.812242, 1083703734.5311832, 1063908863.1370044, 1040093013.3139806]\n",
            "Random Latency Test --- 11\n",
            "[3.9785521030426025, 4.1699135303497314, 4.1576879024505615, 4.091583013534546, 3.993521213531494, 4.102009057998657, 4.15857458114624, 4.139909029006958, 4.137833595275879, 4.034199237823486]\n",
            "Random Bandwidth Test ---11\n",
            "[1079530237.3231254, 1029989534.4927645, 1033018205.4955412, 1049707969.2120823, 1075483781.442577, 1047039934.6449727, 1032797948.4778569, 1037454510.6925298, 1037974871.9000008, 1064639360.3299578]\n"
          ],
          "name": "stdout"
        }
      ]
    },
    {
      "cell_type": "code",
      "metadata": {
        "id": "wPpZk9SxMnRM",
        "colab_type": "code",
        "colab": {
          "base_uri": "https://localhost:8080/",
          "height": 222
        },
        "outputId": "dd93d670-9840-4d07-ab5e-6068bfd5fae6"
      },
      "source": [
        "#get mean latency\n",
        "\n",
        "print('mean:')\n",
        "\n",
        "aves = {}\n",
        "avesb = {}\n",
        "aver = {}\n",
        "averb = {}\n",
        "for n in N:\n",
        "  aves[n] = np.mean(S[n])\n",
        "  avesb[n] = np.mean(SB[n])\n",
        "  aver[n] = np.mean(R[n])\n",
        "  averb[n] = np.mean(RB[n])\n",
        "print(aves)\n",
        "print(avesb)\n",
        "print(aver)\n",
        "print(averb)\n",
        "\n",
        "print('\\nste:')\n",
        "\n",
        "#get ste latency\n",
        "stes = {}\n",
        "stesb = {}\n",
        "ster = {}\n",
        "sterb = {}\n",
        "for n in N:\n",
        "  stes[n] = np.std([S[n]])/np.sqrt(10)\n",
        "  stesb[n] = np.std(SB[n])/np.sqrt(10)\n",
        "  ster[n] = np.std([R[n]])/np.sqrt(10)\n",
        "  sterb[n] = np.std(RB[n])/np.sqrt(10)\n",
        "print(stes)\n",
        "print(stesb)\n",
        "print(ster)\n",
        "print(sterb)"
      ],
      "execution_count": null,
      "outputs": [
        {
          "output_type": "stream",
          "text": [
            "mean:\n",
            "{1: 3.0653999829155508e-06, 2: 5.624000095849624e-06, 3: 2.1322699922166066e-05, 4: 7.958040014273138e-05, 5: 0.0003532333003022359, 6: 0.0016284622977536856, 7: 0.006119274900538585, 8: 0.023956835499006957, 9: 0.08978890159123694, 10: 0.3510731712689221, 11: 1.4117449184274165}\n",
            "{1: 1339747565.730508, 2: 2919209346.4557333, 3: 3079257312.8990498, 4: 3301366178.5454645, 5: 3021164916.6166587, 6: 2671173430.774408, 7: 2777225821.2815676, 8: 2820499100.483543, 9: 2990987916.4792523, 10: 3059468089.543472, 11: 3042581929.230315}\n",
            "{1: 5.173683166503906e-06, 2: 1.5497207641601562e-05, 3: 6.263256072998047e-05, 4: 0.00025699138641357424, 5: 0.0010406017303466798, 6: 0.004039192199707031, 7: 0.016077399253845215, 8: 0.06431305408477783, 9: 0.25723991394042967, 10: 1.031735372543335, 11: 4.096378326416016}\n",
            "{1: 898965001.1193317, 2: 1062561810.8516929, 3: 1053137965.9080307, 4: 1028626318.6944733, 5: 1012319687.619523, 6: 1041157109.0830967, 7: 1045245434.6447222, 8: 1044950332.5907055, 9: 1044551445.1502724, 10: 1041105252.8852952, 11: 1048763635.4011409}\n",
            "\n",
            "ste:\n",
            "{1: 5.096060979354308e-08, 2: 7.990320758567706e-08, 3: 2.931192812664634e-07, 4: 1.199057022832395e-06, 5: 1.6459664910096996e-05, 6: 0.00012036831493568275, 7: 0.0002497304982165759, 8: 0.0006865255431359452, 9: 0.000601236210697403, 10: 0.002021181611344072, 11: 0.0042008342944733126}\n",
            "{1: 21354970.589518085, 2: 42110389.589993544, 3: 41675270.44644824, 4: 48422492.31491811, 5: 114126965.96923283, 6: 130650513.00984854, 7: 87414596.40374367, 8: 67389636.43918811, 9: 20306275.937883943, 10: 17582883.345474396, 11: 9100492.758768251}\n",
            "{1: 8.662505251839829e-07, 2: 3.631483605319933e-07, 3: 1.6159961342417811e-06, 4: 7.860038991344148e-06, 5: 2.2797210022451865e-05, 6: 6.783103020384274e-05, 7: 0.0002068958796714763, 8: 0.0007627451710765766, 9: 0.002527808382143493, 10: 0.006296100740587708, 11: 0.02122066672497491}\n",
            "{1: 65481595.04711124, 2: 22823179.910323545, 3: 26307258.107490145, 4: 28122397.885651022, 5: 21287647.771346997, 6: 16433209.347251842, 7: 13357514.967510818, 8: 12479607.386486243, 9: 10485344.273481177, 10: 6407585.793515141, 11: 5491842.9122482315}\n"
          ],
          "name": "stdout"
        }
      ]
    },
    {
      "cell_type": "code",
      "metadata": {
        "id": "lfi_eAHWwvrL",
        "colab_type": "code",
        "colab": {
          "base_uri": "https://localhost:8080/",
          "height": 518
        },
        "outputId": "1ae0b3bb-205a-4533-d9df-5760a64d84b4"
      },
      "source": [
        "#Q3 C\n",
        "plt.errorbar(l,list(aves.values()),yerr=list(stes.values()),label='Sequential',fmt='-o')\n",
        "plt.errorbar(l,list(aver.values()),yerr=list(ster.values()),label='Random',fmt=\"-o\")\n",
        "plt.xlabel(\"No. of blocks\")\n",
        "plt.ylabel(\"latency (seconds)\")\n",
        "plt.xscale(\"log\")\n",
        "plt.legend()"
      ],
      "execution_count": null,
      "outputs": [
        {
          "output_type": "execute_result",
          "data": {
            "text/plain": [
              "<matplotlib.legend.Legend at 0x7f9512bcd860>"
            ]
          },
          "metadata": {
            "tags": []
          },
          "execution_count": 14
        },
        {
          "output_type": "display_data",
          "data": {
            "image/png": "[encoded data removed]",
            "text/plain": [
              "<Figure size 864x576 with 1 Axes>"
            ]
          },
          "metadata": {
            "tags": []
          }
        }
      ]
    },
    {
      "cell_type": "markdown",
      "metadata": {
        "id": "VQULiviDCE2s",
        "colab_type": "text"
      },
      "source": [
        "**Brief description:**\n",
        "\n",
        "Similar to Q2. When the number of blocks are elow 10^4, the latencies of sequential and random reads are pretty close and close to 0. However, after 10^4, when the number of blocks gets higher, both start to increase fast and the latencies of random reads increase much faster than the latencies of sequential reads. \n",
        "\n",
        "And the standard error for each points are pretty small and hard to notice."
      ]
    },
    {
      "cell_type": "code",
      "metadata": {
        "id": "LRQtA2hk2PKV",
        "colab_type": "code",
        "colab": {
          "base_uri": "https://localhost:8080/",
          "height": 529
        },
        "outputId": "fc5f1837-327e-4f5d-bc24-10149946c013"
      },
      "source": [
        "plt.errorbar(l,list(avesb.values()),yerr=list(stesb.values()),label='Sequential',fmt='-o')\n",
        "plt.errorbar(l,list(averb.values()),yerr=list(sterb.values()),label='Random',fmt=\"-o\")\n",
        "plt.xlabel(\"No. of blocks\")\n",
        "plt.ylabel(\"bandwidth (bytes/sec)\")\n",
        "plt.xscale(\"log\")\n",
        "plt.legend()"
      ],
      "execution_count": null,
      "outputs": [
        {
          "output_type": "execute_result",
          "data": {
            "text/plain": [
              "<matplotlib.legend.Legend at 0x7f9512a4ff28>"
            ]
          },
          "metadata": {
            "tags": []
          },
          "execution_count": 15
        },
        {
          "output_type": "display_data",
          "data": {
            "image/png": "[encoded data removed]",
            "text/plain": [
              "<Figure size 864x576 with 1 Axes>"
            ]
          },
          "metadata": {
            "tags": []
          }
        }
      ]
    },
    {
      "cell_type": "markdown",
      "metadata": {
        "id": "8vR3lmIMCSPH",
        "colab_type": "text"
      },
      "source": [
        "**Brief description:**\n",
        "\n",
        "Similar to Q2. Random bandwith is pretty stable and lower than sequential. Sequential bandwidth increased suddenly from 1 to 4 blocks read and then became generally stable.\n",
        "\n",
        "There some standard error for lower number of blocks especially for sequential reads but not much for higher number of blocks read."
      ]
    }
  ]
}